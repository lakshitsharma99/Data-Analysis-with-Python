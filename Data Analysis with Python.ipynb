{
 "cells": [
  {
   "cell_type": "markdown",
   "id": "996e9d34",
   "metadata": {},
   "source": [
    "# Exploratory Data Analysis using Python\n",
    "Exploratory Data Analysis (EDA) is an approach in analyzing data sets to summarize their main characteristics, often using statistical graphics and other data visualization methods. EDA is very useful for:\n",
    "\n",
    "1) Getting a better understanding of data<br>\n",
    "2) Identifying various data patterns<br>\n",
    "3) Getting a better understanding of the problem statement"
   ]
  },
  {
   "cell_type": "markdown",
   "id": "7424d1d8",
   "metadata": {},
   "source": [
    "We basically perform EDA with the help of Python's powerful libraries such as pandas, NumPy and Matplotlib. Python is a general purpose language and is often used for things other than data analysis and data science. <br><br> The <a href=\"https://pandas.pydata.org/\">Pandas</a> module mainly works with the tabular data, whereas the <a href=\"https://numpy.org/\">NumPy</a> module works with the numerical data. The Pandas provides some sets of powerful tools like DataFrame and Series that mainly used for analyzing the data, whereas in NumPy module offers a powerful object called Array. \n",
    "<br><br>\n",
    "I'm using a Dataset which I found on <a href=\"https://www.kaggle.com/iamsouravbanerjee/analytics-industry-salaries-2022-india\">Kaggle</a> in the following CSV format:\n",
    "\n",
    "<code>Company Name,Job Title,Salaries Reported,Location,Salary\n",
    "Mu Sigma,Data Scientist,105,Bangalore,\"₹6,48,573/yr\"\n",
    "IBM,Data Scientist,95,Bangalore,\"₹11,91,950/yr\"\n",
    "Tata Consultancy Services,Data Scientist,66,Bangalore,\"₹8,36,874/yr\"\n",
    "Impact Analytics,Data Scientist,40,Bangalore,\"₹6,69,578/yr\"\n",
    "Accenture,Data Scientist,32,Bangalore,\"₹9,44,110/yr\"\n",
    "Infosys,Data Scientist,30,Bangalore,\"₹9,08,764/yr\"</code>\n",
    "\n",
    "Before analysing this CSV file firstly we need to clean and transform this data to identify incorrect or irrelevant parts of the data and then replacing, or deleting the dirty data. For that lets import pandas module and read CSV. "
   ]
  },
  {
   "cell_type": "markdown",
   "id": "a27546db",
   "metadata": {},
   "source": [
    "# Importing pandas, NumPy & Matplotlib module with the alias pd, nm & plt."
   ]
  },
  {
   "cell_type": "code",
   "execution_count": 1,
   "id": "5bf28c8a",
   "metadata": {},
   "outputs": [],
   "source": [
    "import pandas as pd\n",
    "import numpy as nm\n",
    "#matplotlib inline\n",
    "from matplotlib import pyplot as plt\n",
    "pd.options.mode.chained_assignment = None  # It will not show any unnecessary warning. default='warn'"
   ]
  },
  {
   "cell_type": "markdown",
   "id": "d47ff8dd",
   "metadata": {},
   "source": [
    "# Reading a CSV file using Pandas"
   ]
  },
  {
   "cell_type": "code",
   "execution_count": 2,
   "id": "3f71edd7",
   "metadata": {},
   "outputs": [],
   "source": [
    "# Reading CSV file in variable data_df\n",
    "data_df = pd.read_csv(\"Dataset.csv\")"
   ]
  },
  {
   "cell_type": "markdown",
   "id": "8789dad2",
   "metadata": {},
   "source": [
    "Data from the CSV file is read and stored in a DataFrame object - one of the core data structures in Pandas for storing and working with tabular data. We typically use the _df suffix in the variable names for dataframes. "
   ]
  },
  {
   "cell_type": "code",
   "execution_count": 3,
   "id": "5f9ab008",
   "metadata": {},
   "outputs": [
    {
     "data": {
      "text/plain": [
       "pandas.core.frame.DataFrame"
      ]
     },
     "execution_count": 3,
     "metadata": {},
     "output_type": "execute_result"
    }
   ],
   "source": [
    "# To find out the type of data_df\n",
    "type(data_df)"
   ]
  },
  {
   "cell_type": "code",
   "execution_count": 4,
   "id": "fa56cfdc",
   "metadata": {},
   "outputs": [
    {
     "data": {
      "text/html": [
       "<div>\n",
       "<style scoped>\n",
       "    .dataframe tbody tr th:only-of-type {\n",
       "        vertical-align: middle;\n",
       "    }\n",
       "\n",
       "    .dataframe tbody tr th {\n",
       "        vertical-align: top;\n",
       "    }\n",
       "\n",
       "    .dataframe thead th {\n",
       "        text-align: right;\n",
       "    }\n",
       "</style>\n",
       "<table border=\"1\" class=\"dataframe\">\n",
       "  <thead>\n",
       "    <tr style=\"text-align: right;\">\n",
       "      <th></th>\n",
       "      <th>Company_Name</th>\n",
       "      <th>Job_Title</th>\n",
       "      <th>Salaries_Reported</th>\n",
       "      <th>Location</th>\n",
       "      <th>Salary</th>\n",
       "    </tr>\n",
       "  </thead>\n",
       "  <tbody>\n",
       "    <tr>\n",
       "      <th>46</th>\n",
       "      <td>Affle</td>\n",
       "      <td>Data Scientist</td>\n",
       "      <td>1.0</td>\n",
       "      <td>Bangalore</td>\n",
       "      <td>₹9,33,286/yr</td>\n",
       "    </tr>\n",
       "    <tr>\n",
       "      <th>1451</th>\n",
       "      <td>DigiTele Networks</td>\n",
       "      <td>Data Scientist</td>\n",
       "      <td>2.0</td>\n",
       "      <td>Hyderabad</td>\n",
       "      <td>₹7,87,723/yr</td>\n",
       "    </tr>\n",
       "    <tr>\n",
       "      <th>825</th>\n",
       "      <td>Zoom Video Communications</td>\n",
       "      <td>Data Scientist</td>\n",
       "      <td>2.0</td>\n",
       "      <td>Bangalore</td>\n",
       "      <td>₹28,39,076/yr</td>\n",
       "    </tr>\n",
       "    <tr>\n",
       "      <th>2715</th>\n",
       "      <td>GroupM</td>\n",
       "      <td>Data Analyst</td>\n",
       "      <td>2.0</td>\n",
       "      <td>New Delhi</td>\n",
       "      <td>₹22,274/mo</td>\n",
       "    </tr>\n",
       "    <tr>\n",
       "      <th>1148</th>\n",
       "      <td>PharmaACE</td>\n",
       "      <td>Data Scientist</td>\n",
       "      <td>1.0</td>\n",
       "      <td>Pune</td>\n",
       "      <td>₹7,00,000/yr</td>\n",
       "    </tr>\n",
       "    <tr>\n",
       "      <th>2645</th>\n",
       "      <td>Actiknow</td>\n",
       "      <td>Data Analyst</td>\n",
       "      <td>4.0</td>\n",
       "      <td>New Delhi</td>\n",
       "      <td>₹3,63,669/yr</td>\n",
       "    </tr>\n",
       "    <tr>\n",
       "      <th>2388</th>\n",
       "      <td>S&amp;P Global</td>\n",
       "      <td>Data Analyst</td>\n",
       "      <td>4.0</td>\n",
       "      <td>Hyderabad</td>\n",
       "      <td>₹6,58,529/yr</td>\n",
       "    </tr>\n",
       "    <tr>\n",
       "      <th>3388</th>\n",
       "      <td>DataFactZ</td>\n",
       "      <td>Data Engineer</td>\n",
       "      <td>1.0</td>\n",
       "      <td>Hyderabad</td>\n",
       "      <td>₹52,412/mo</td>\n",
       "    </tr>\n",
       "    <tr>\n",
       "      <th>935</th>\n",
       "      <td>Digité</td>\n",
       "      <td>Data Scientist</td>\n",
       "      <td>1.0</td>\n",
       "      <td>Bangalore</td>\n",
       "      <td>₹20,740/mo</td>\n",
       "    </tr>\n",
       "    <tr>\n",
       "      <th>1197</th>\n",
       "      <td>Tribes.AI</td>\n",
       "      <td>Data Scientist</td>\n",
       "      <td>1.0</td>\n",
       "      <td>Pune</td>\n",
       "      <td>₹4,20,000/yr</td>\n",
       "    </tr>\n",
       "  </tbody>\n",
       "</table>\n",
       "</div>"
      ],
      "text/plain": [
       "                   Company_Name       Job_Title  Salaries_Reported   Location  \\\n",
       "46                        Affle  Data Scientist                1.0  Bangalore   \n",
       "1451          DigiTele Networks  Data Scientist                2.0  Hyderabad   \n",
       "825   Zoom Video Communications  Data Scientist                2.0  Bangalore   \n",
       "2715                     GroupM    Data Analyst                2.0  New Delhi   \n",
       "1148                  PharmaACE  Data Scientist                1.0       Pune   \n",
       "2645                   Actiknow    Data Analyst                4.0  New Delhi   \n",
       "2388                 S&P Global    Data Analyst                4.0  Hyderabad   \n",
       "3388                  DataFactZ   Data Engineer                1.0  Hyderabad   \n",
       "935                      Digité  Data Scientist                1.0  Bangalore   \n",
       "1197                  Tribes.AI  Data Scientist                1.0       Pune   \n",
       "\n",
       "             Salary  \n",
       "46     ₹9,33,286/yr  \n",
       "1451   ₹7,87,723/yr  \n",
       "825   ₹28,39,076/yr  \n",
       "2715     ₹22,274/mo  \n",
       "1148   ₹7,00,000/yr  \n",
       "2645   ₹3,63,669/yr  \n",
       "2388   ₹6,58,529/yr  \n",
       "3388     ₹52,412/mo  \n",
       "935      ₹20,740/mo  \n",
       "1197   ₹4,20,000/yr  "
      ]
     },
     "execution_count": 4,
     "metadata": {},
     "output_type": "execute_result"
    }
   ],
   "source": [
    "# Lets extract 10 random rows from the dataset using sample()\n",
    "data_df.sample(10)"
   ]
  },
  {
   "cell_type": "markdown",
   "id": "59dbf96c",
   "metadata": {},
   "source": [
    "The data is looking awesome but the salary column is not looking good since it include hourly, montly and yearly salary but we would need all yearly salary for analysis. Let clean & transform the data using pandas functions."
   ]
  },
  {
   "cell_type": "markdown",
   "id": "d5188766",
   "metadata": {},
   "source": [
    "# Transforming Data using Pandas"
   ]
  },
  {
   "cell_type": "code",
   "execution_count": 5,
   "id": "67b35a1c",
   "metadata": {},
   "outputs": [
    {
     "data": {
      "text/html": [
       "<div>\n",
       "<style scoped>\n",
       "    .dataframe tbody tr th:only-of-type {\n",
       "        vertical-align: middle;\n",
       "    }\n",
       "\n",
       "    .dataframe tbody tr th {\n",
       "        vertical-align: top;\n",
       "    }\n",
       "\n",
       "    .dataframe thead th {\n",
       "        text-align: right;\n",
       "    }\n",
       "</style>\n",
       "<table border=\"1\" class=\"dataframe\">\n",
       "  <thead>\n",
       "    <tr style=\"text-align: right;\">\n",
       "      <th></th>\n",
       "      <th>Company_Name</th>\n",
       "      <th>Job_Title</th>\n",
       "      <th>Salaries_Reported</th>\n",
       "      <th>Location</th>\n",
       "      <th>Salary</th>\n",
       "      <th>wise</th>\n",
       "    </tr>\n",
       "  </thead>\n",
       "  <tbody>\n",
       "    <tr>\n",
       "      <th>0</th>\n",
       "      <td>MiQ</td>\n",
       "      <td>Data Scientist</td>\n",
       "      <td>1.0</td>\n",
       "      <td>Bangalore</td>\n",
       "      <td>1674802.0</td>\n",
       "      <td>yr</td>\n",
       "    </tr>\n",
       "    <tr>\n",
       "      <th>1</th>\n",
       "      <td>HCL Technologies</td>\n",
       "      <td>Machine Learning Engineer</td>\n",
       "      <td>2.0</td>\n",
       "      <td>Bangalore</td>\n",
       "      <td>99468.0</td>\n",
       "      <td>mo</td>\n",
       "    </tr>\n",
       "    <tr>\n",
       "      <th>2</th>\n",
       "      <td>Novotech</td>\n",
       "      <td>Data Engineer</td>\n",
       "      <td>2.0</td>\n",
       "      <td>Bangalore</td>\n",
       "      <td>97061.0</td>\n",
       "      <td>mo</td>\n",
       "    </tr>\n",
       "    <tr>\n",
       "      <th>3</th>\n",
       "      <td>SymphonyAI</td>\n",
       "      <td>Data Scientist</td>\n",
       "      <td>2.0</td>\n",
       "      <td>Bangalore</td>\n",
       "      <td>964.0</td>\n",
       "      <td>hr</td>\n",
       "    </tr>\n",
       "    <tr>\n",
       "      <th>4</th>\n",
       "      <td>Société Générale</td>\n",
       "      <td>Data Scientist</td>\n",
       "      <td>1.0</td>\n",
       "      <td>Bangalore</td>\n",
       "      <td>9568943.0</td>\n",
       "      <td>yr</td>\n",
       "    </tr>\n",
       "    <tr>\n",
       "      <th>...</th>\n",
       "      <td>...</td>\n",
       "      <td>...</td>\n",
       "      <td>...</td>\n",
       "      <td>...</td>\n",
       "      <td>...</td>\n",
       "      <td>...</td>\n",
       "    </tr>\n",
       "    <tr>\n",
       "      <th>4336</th>\n",
       "      <td>TaiyōAI</td>\n",
       "      <td>Machine Learning Scientist</td>\n",
       "      <td>1.0</td>\n",
       "      <td>Mumbai</td>\n",
       "      <td>5180.0</td>\n",
       "      <td>mo</td>\n",
       "    </tr>\n",
       "    <tr>\n",
       "      <th>4337</th>\n",
       "      <td>Decimal Point Analytics</td>\n",
       "      <td>Machine Learning Developer</td>\n",
       "      <td>1.0</td>\n",
       "      <td>Mumbai</td>\n",
       "      <td>751286.0</td>\n",
       "      <td>yr</td>\n",
       "    </tr>\n",
       "    <tr>\n",
       "      <th>4338</th>\n",
       "      <td>MyWays</td>\n",
       "      <td>Machine Learning Developer</td>\n",
       "      <td>1.0</td>\n",
       "      <td>Mumbai</td>\n",
       "      <td>410952.0</td>\n",
       "      <td>yr</td>\n",
       "    </tr>\n",
       "    <tr>\n",
       "      <th>4339</th>\n",
       "      <td>Market Pulse Technologies</td>\n",
       "      <td>Software Engineer - Machine Learning</td>\n",
       "      <td>1.0</td>\n",
       "      <td>Mumbai</td>\n",
       "      <td>1612324.0</td>\n",
       "      <td>yr</td>\n",
       "    </tr>\n",
       "    <tr>\n",
       "      <th>4340</th>\n",
       "      <td>vPhrase</td>\n",
       "      <td>Machine Learning Engineer</td>\n",
       "      <td>1.0</td>\n",
       "      <td>Mumbai</td>\n",
       "      <td>939843.0</td>\n",
       "      <td>yr</td>\n",
       "    </tr>\n",
       "  </tbody>\n",
       "</table>\n",
       "<p>4341 rows × 6 columns</p>\n",
       "</div>"
      ],
      "text/plain": [
       "                   Company_Name                             Job_Title  \\\n",
       "0                           MiQ                        Data Scientist   \n",
       "1              HCL Technologies             Machine Learning Engineer   \n",
       "2                      Novotech                         Data Engineer   \n",
       "3                    SymphonyAI                        Data Scientist   \n",
       "4              Société Générale                        Data Scientist   \n",
       "...                         ...                                   ...   \n",
       "4336                    TaiyōAI            Machine Learning Scientist   \n",
       "4337    Decimal Point Analytics            Machine Learning Developer   \n",
       "4338                     MyWays            Machine Learning Developer   \n",
       "4339  Market Pulse Technologies  Software Engineer - Machine Learning   \n",
       "4340                    vPhrase             Machine Learning Engineer   \n",
       "\n",
       "      Salaries_Reported   Location     Salary wise  \n",
       "0                   1.0  Bangalore  1674802.0   yr  \n",
       "1                   2.0  Bangalore    99468.0   mo  \n",
       "2                   2.0  Bangalore    97061.0   mo  \n",
       "3                   2.0  Bangalore      964.0   hr  \n",
       "4                   1.0  Bangalore  9568943.0   yr  \n",
       "...                 ...        ...        ...  ...  \n",
       "4336                1.0     Mumbai     5180.0   mo  \n",
       "4337                1.0     Mumbai   751286.0   yr  \n",
       "4338                1.0     Mumbai   410952.0   yr  \n",
       "4339                1.0     Mumbai  1612324.0   yr  \n",
       "4340                1.0     Mumbai   939843.0   yr  \n",
       "\n",
       "[4341 rows x 6 columns]"
      ]
     },
     "execution_count": 5,
     "metadata": {},
     "output_type": "execute_result"
    }
   ],
   "source": [
    "# Creating temp column 'wise' to store 'yr', 'mo', 'hr' from salary\n",
    "data_df['wise'] = data_df['Salary'].str.slice(-2)\n",
    "\n",
    "# Lets remove the unwanted values and make salary column numeric using str()\n",
    "data_df.Salary = data_df.Salary.str.slice(1,-3)\n",
    "data_df.Salary = data_df.Salary.str.replace(',','')\n",
    "\n",
    "# Converting salary column to float\n",
    "data_df.Salary = data_df.Salary.astype(float)\n",
    "\n",
    "data_df"
   ]
  },
  {
   "cell_type": "code",
   "execution_count": 6,
   "id": "fb0927e5",
   "metadata": {},
   "outputs": [
    {
     "data": {
      "text/html": [
       "<div>\n",
       "<style scoped>\n",
       "    .dataframe tbody tr th:only-of-type {\n",
       "        vertical-align: middle;\n",
       "    }\n",
       "\n",
       "    .dataframe tbody tr th {\n",
       "        vertical-align: top;\n",
       "    }\n",
       "\n",
       "    .dataframe thead th {\n",
       "        text-align: right;\n",
       "    }\n",
       "</style>\n",
       "<table border=\"1\" class=\"dataframe\">\n",
       "  <thead>\n",
       "    <tr style=\"text-align: right;\">\n",
       "      <th></th>\n",
       "      <th>Company_Name</th>\n",
       "      <th>Job_Title</th>\n",
       "      <th>Salaries_Reported</th>\n",
       "      <th>Location</th>\n",
       "      <th>Yearly_Salary</th>\n",
       "    </tr>\n",
       "  </thead>\n",
       "  <tbody>\n",
       "    <tr>\n",
       "      <th>2816</th>\n",
       "      <td>The Sparks Foundation</td>\n",
       "      <td>Data Analyst</td>\n",
       "      <td>2.0</td>\n",
       "      <td>Mumbai</td>\n",
       "      <td>304980.0</td>\n",
       "    </tr>\n",
       "    <tr>\n",
       "      <th>3168</th>\n",
       "      <td>Mastercard</td>\n",
       "      <td>Data Engineer</td>\n",
       "      <td>2.0</td>\n",
       "      <td>Pune</td>\n",
       "      <td>924300.0</td>\n",
       "    </tr>\n",
       "    <tr>\n",
       "      <th>941</th>\n",
       "      <td>First Student</td>\n",
       "      <td>Data Scientist</td>\n",
       "      <td>1.0</td>\n",
       "      <td>Bangalore</td>\n",
       "      <td>246600.0</td>\n",
       "    </tr>\n",
       "    <tr>\n",
       "      <th>1346</th>\n",
       "      <td>Tata Consultancy Services</td>\n",
       "      <td>Junior Data Scientist</td>\n",
       "      <td>1.0</td>\n",
       "      <td>Pune</td>\n",
       "      <td>672000.0</td>\n",
       "    </tr>\n",
       "    <tr>\n",
       "      <th>4057</th>\n",
       "      <td>ValueLabs</td>\n",
       "      <td>Machine Learning Engineer</td>\n",
       "      <td>1.0</td>\n",
       "      <td>Hyderabad</td>\n",
       "      <td>1762835.0</td>\n",
       "    </tr>\n",
       "    <tr>\n",
       "      <th>2603</th>\n",
       "      <td>TO THE NEW</td>\n",
       "      <td>Data Analyst</td>\n",
       "      <td>5.0</td>\n",
       "      <td>New Delhi</td>\n",
       "      <td>309194.0</td>\n",
       "    </tr>\n",
       "    <tr>\n",
       "      <th>4309</th>\n",
       "      <td>Quantiphi</td>\n",
       "      <td>Senior Machine Learning Engineer</td>\n",
       "      <td>13.0</td>\n",
       "      <td>Mumbai</td>\n",
       "      <td>1130000.0</td>\n",
       "    </tr>\n",
       "    <tr>\n",
       "      <th>4029</th>\n",
       "      <td>FactSet</td>\n",
       "      <td>Machine Learning Engineer</td>\n",
       "      <td>7.0</td>\n",
       "      <td>Hyderabad</td>\n",
       "      <td>1746411.0</td>\n",
       "    </tr>\n",
       "    <tr>\n",
       "      <th>3010</th>\n",
       "      <td>Raju Tech</td>\n",
       "      <td>Machine Learning Engineer</td>\n",
       "      <td>1.0</td>\n",
       "      <td>Bangalore</td>\n",
       "      <td>1355169.0</td>\n",
       "    </tr>\n",
       "    <tr>\n",
       "      <th>2783</th>\n",
       "      <td>ICICI Bank</td>\n",
       "      <td>Data Analyst</td>\n",
       "      <td>4.0</td>\n",
       "      <td>Mumbai</td>\n",
       "      <td>477492.0</td>\n",
       "    </tr>\n",
       "  </tbody>\n",
       "</table>\n",
       "</div>"
      ],
      "text/plain": [
       "                   Company_Name                         Job_Title  \\\n",
       "2816      The Sparks Foundation                      Data Analyst   \n",
       "3168                 Mastercard                     Data Engineer   \n",
       "941               First Student                    Data Scientist   \n",
       "1346  Tata Consultancy Services             Junior Data Scientist   \n",
       "4057                  ValueLabs         Machine Learning Engineer   \n",
       "2603                 TO THE NEW                      Data Analyst   \n",
       "4309                  Quantiphi  Senior Machine Learning Engineer   \n",
       "4029                    FactSet         Machine Learning Engineer   \n",
       "3010                  Raju Tech         Machine Learning Engineer   \n",
       "2783                 ICICI Bank                      Data Analyst   \n",
       "\n",
       "      Salaries_Reported   Location  Yearly_Salary  \n",
       "2816                2.0     Mumbai       304980.0  \n",
       "3168                2.0       Pune       924300.0  \n",
       "941                 1.0  Bangalore       246600.0  \n",
       "1346                1.0       Pune       672000.0  \n",
       "4057                1.0  Hyderabad      1762835.0  \n",
       "2603                5.0  New Delhi       309194.0  \n",
       "4309               13.0     Mumbai      1130000.0  \n",
       "4029                7.0  Hyderabad      1746411.0  \n",
       "3010                1.0  Bangalore      1355169.0  \n",
       "2783                4.0     Mumbai       477492.0  "
      ]
     },
     "execution_count": 6,
     "metadata": {},
     "output_type": "execute_result"
    }
   ],
   "source": [
    "# Convert montly salary to yearly salary where wise is equal to mo\n",
    "data_df.Salary.loc[data_df.wise=='mo'] = data_df.Salary.loc[data_df.wise=='mo'] * 12\n",
    "\n",
    "# Convert hourly salary to yearly salry where wise is equal to hr\n",
    "data_df.Salary.loc[data_df.wise=='hr'] = data_df.Salary.loc[data_df.wise=='hr'] *8*5*4*12\n",
    "\n",
    "# Created a new column 'Yearly_Salary' to store all Yearly Salary\n",
    "data_df['Yearly_Salary'] = data_df.Salary\n",
    "\n",
    "# Deleted previous Salary column as that is not required now.\n",
    "data_df = data_df.drop(['Salary', 'wise'], axis=1)\n",
    "\n",
    "# Now again extract 10 random rows from the dataset for rechecking\n",
    "data_df.sample(10)"
   ]
  },
  {
   "cell_type": "code",
   "execution_count": 7,
   "id": "fe482cac",
   "metadata": {},
   "outputs": [
    {
     "data": {
      "text/plain": [
       "Company_Name          object\n",
       "Job_Title             object\n",
       "Salaries_Reported    float64\n",
       "Location              object\n",
       "Yearly_Salary        float64\n",
       "dtype: object"
      ]
     },
     "execution_count": 7,
     "metadata": {},
     "output_type": "execute_result"
    }
   ],
   "source": [
    "# To check the datatype of the columns\n",
    "data_df.dtypes"
   ]
  },
  {
   "cell_type": "markdown",
   "id": "b5db5e7c",
   "metadata": {},
   "source": [
    "Now data is looking good as it now include Yearly Salary. Let's do some Data Analysis."
   ]
  },
  {
   "cell_type": "markdown",
   "id": "81785d31",
   "metadata": {},
   "source": [
    "# Analyzing Data from Dataset"
   ]
  },
  {
   "cell_type": "markdown",
   "id": "09aa8515",
   "metadata": {},
   "source": [
    "Let's try to answer some questions about our data."
   ]
  },
  {
   "cell_type": "markdown",
   "id": "47f12d04",
   "metadata": {},
   "source": [
    "1) What are the Highest Paying Jobs in all location?"
   ]
  },
  {
   "cell_type": "code",
   "execution_count": 8,
   "id": "9117fa12",
   "metadata": {},
   "outputs": [
    {
     "data": {
      "text/html": [
       "<div>\n",
       "<style scoped>\n",
       "    .dataframe tbody tr th:only-of-type {\n",
       "        vertical-align: middle;\n",
       "    }\n",
       "\n",
       "    .dataframe tbody tr th {\n",
       "        vertical-align: top;\n",
       "    }\n",
       "\n",
       "    .dataframe thead th {\n",
       "        text-align: right;\n",
       "    }\n",
       "</style>\n",
       "<table border=\"1\" class=\"dataframe\">\n",
       "  <thead>\n",
       "    <tr style=\"text-align: right;\">\n",
       "      <th></th>\n",
       "      <th>Job_Title</th>\n",
       "      <th>Yearly_Salary</th>\n",
       "    </tr>\n",
       "    <tr>\n",
       "      <th>Location</th>\n",
       "      <th></th>\n",
       "      <th></th>\n",
       "    </tr>\n",
       "  </thead>\n",
       "  <tbody>\n",
       "    <tr>\n",
       "      <th>Bangalore</th>\n",
       "      <td>Machine Learning Engineer</td>\n",
       "      <td>18807948.0</td>\n",
       "    </tr>\n",
       "    <tr>\n",
       "      <th>Pune</th>\n",
       "      <td>Software Engineer - Machine Learning</td>\n",
       "      <td>8557632.0</td>\n",
       "    </tr>\n",
       "    <tr>\n",
       "      <th>Mumbai</th>\n",
       "      <td>Software Engineer - Machine Learning</td>\n",
       "      <td>6044006.0</td>\n",
       "    </tr>\n",
       "    <tr>\n",
       "      <th>Hyderabad</th>\n",
       "      <td>Senior Machine Learning Engineer</td>\n",
       "      <td>5792640.0</td>\n",
       "    </tr>\n",
       "    <tr>\n",
       "      <th>New Delhi</th>\n",
       "      <td>Machine Learning Engineer</td>\n",
       "      <td>5092618.0</td>\n",
       "    </tr>\n",
       "  </tbody>\n",
       "</table>\n",
       "</div>"
      ],
      "text/plain": [
       "                                      Job_Title  Yearly_Salary\n",
       "Location                                                      \n",
       "Bangalore             Machine Learning Engineer     18807948.0\n",
       "Pune       Software Engineer - Machine Learning      8557632.0\n",
       "Mumbai     Software Engineer - Machine Learning      6044006.0\n",
       "Hyderabad      Senior Machine Learning Engineer      5792640.0\n",
       "New Delhi             Machine Learning Engineer      5092618.0"
      ]
     },
     "execution_count": 8,
     "metadata": {},
     "output_type": "execute_result"
    }
   ],
   "source": [
    "data_df[['Job_Title','Yearly_Salary']].groupby(data_df.Location).max().sort_values(['Yearly_Salary'],ascending=False)"
   ]
  },
  {
   "cell_type": "code",
   "execution_count": 9,
   "id": "985b8c5e",
   "metadata": {},
   "outputs": [
    {
     "data": {
      "text/plain": [
       "<AxesSubplot:title={'center':'Highest Paying Jobs by Location'}, xlabel='Location', ylabel='Salary in Crores (INR)'>"
      ]
     },
     "execution_count": 9,
     "metadata": {},
     "output_type": "execute_result"
    },
    {
     "data": {
      "image/png": "[encoded data removed]",
      "text/plain": [
       "<Figure size 432x288 with 1 Axes>"
      ]
     },
     "metadata": {
      "needs_background": "light"
     },
     "output_type": "display_data"
    }
   ],
   "source": [
    "data_df[['Job_Title','Yearly_Salary']].groupby(data_df.Location).max().sort_values(['Yearly_Salary'],ascending=False).plot(kind='bar',yticks = range(1000000,20000000,5000000), xlabel='Location',ylabel='Salary in Crores (INR)', title='Highest Paying Jobs by Location')"
   ]
  },
  {
   "cell_type": "markdown",
   "id": "5bd06cc3",
   "metadata": {},
   "source": [
    "2) What are the Lowest Paying Jobs in all location?"
   ]
  },
  {
   "cell_type": "code",
   "execution_count": 10,
   "id": "27605863",
   "metadata": {},
   "outputs": [
    {
     "data": {
      "text/html": [
       "<div>\n",
       "<style scoped>\n",
       "    .dataframe tbody tr th:only-of-type {\n",
       "        vertical-align: middle;\n",
       "    }\n",
       "\n",
       "    .dataframe tbody tr th {\n",
       "        vertical-align: top;\n",
       "    }\n",
       "\n",
       "    .dataframe thead th {\n",
       "        text-align: right;\n",
       "    }\n",
       "</style>\n",
       "<table border=\"1\" class=\"dataframe\">\n",
       "  <thead>\n",
       "    <tr style=\"text-align: right;\">\n",
       "      <th></th>\n",
       "      <th>Job_Title</th>\n",
       "      <th>Yearly_Salary</th>\n",
       "    </tr>\n",
       "    <tr>\n",
       "      <th>Location</th>\n",
       "      <th></th>\n",
       "      <th></th>\n",
       "    </tr>\n",
       "  </thead>\n",
       "  <tbody>\n",
       "    <tr>\n",
       "      <th>New Delhi</th>\n",
       "      <td>Data Analyst</td>\n",
       "      <td>37008.0</td>\n",
       "    </tr>\n",
       "    <tr>\n",
       "      <th>Mumbai</th>\n",
       "      <td>Data Analyst</td>\n",
       "      <td>27897.0</td>\n",
       "    </tr>\n",
       "    <tr>\n",
       "      <th>Pune</th>\n",
       "      <td>Data Analyst</td>\n",
       "      <td>24120.0</td>\n",
       "    </tr>\n",
       "    <tr>\n",
       "      <th>Bangalore</th>\n",
       "      <td>Data Analyst</td>\n",
       "      <td>21628.0</td>\n",
       "    </tr>\n",
       "    <tr>\n",
       "      <th>Hyderabad</th>\n",
       "      <td>Associate Machine Learning Engineer</td>\n",
       "      <td>10814.0</td>\n",
       "    </tr>\n",
       "  </tbody>\n",
       "</table>\n",
       "</div>"
      ],
      "text/plain": [
       "                                     Job_Title  Yearly_Salary\n",
       "Location                                                     \n",
       "New Delhi                         Data Analyst        37008.0\n",
       "Mumbai                            Data Analyst        27897.0\n",
       "Pune                              Data Analyst        24120.0\n",
       "Bangalore                         Data Analyst        21628.0\n",
       "Hyderabad  Associate Machine Learning Engineer        10814.0"
      ]
     },
     "execution_count": 10,
     "metadata": {},
     "output_type": "execute_result"
    }
   ],
   "source": [
    "data_df[['Job_Title','Yearly_Salary']].groupby(data_df.Location).min().sort_values(['Yearly_Salary'],ascending=False)"
   ]
  },
  {
   "cell_type": "code",
   "execution_count": 11,
   "id": "6b7e7bfa",
   "metadata": {},
   "outputs": [
    {
     "data": {
      "text/plain": [
       "<AxesSubplot:title={'center':'Lowest Paying Jobs by Location'}, xlabel='Location', ylabel='Salary in Thousand (INR)'>"
      ]
     },
     "execution_count": 11,
     "metadata": {},
     "output_type": "execute_result"
    },
    {
     "data": {
      "image/png": "[encoded data removed]",
      "text/plain": [
       "<Figure size 432x288 with 1 Axes>"
      ]
     },
     "metadata": {
      "needs_background": "light"
     },
     "output_type": "display_data"
    }
   ],
   "source": [
    "data_df[['Job_Title','Yearly_Salary']].groupby(data_df.Location).min().sort_values(['Yearly_Salary'],ascending=False).plot(kind='bar',yticks = range(0,50000,10000), xlabel='Location',ylabel='Salary in Thousand (INR)', title='Lowest Paying Jobs by Location')"
   ]
  },
  {
   "cell_type": "markdown",
   "id": "46ec9538",
   "metadata": {},
   "source": [
    "3) Top 5 Highest Paying Companies?"
   ]
  },
  {
   "cell_type": "code",
   "execution_count": 12,
   "id": "db018c20",
   "metadata": {},
   "outputs": [
    {
     "data": {
      "text/html": [
       "<div>\n",
       "<style scoped>\n",
       "    .dataframe tbody tr th:only-of-type {\n",
       "        vertical-align: middle;\n",
       "    }\n",
       "\n",
       "    .dataframe tbody tr th {\n",
       "        vertical-align: top;\n",
       "    }\n",
       "\n",
       "    .dataframe thead th {\n",
       "        text-align: right;\n",
       "    }\n",
       "</style>\n",
       "<table border=\"1\" class=\"dataframe\">\n",
       "  <thead>\n",
       "    <tr style=\"text-align: right;\">\n",
       "      <th></th>\n",
       "      <th>Yearly_Salary</th>\n",
       "      <th>Job_Title</th>\n",
       "    </tr>\n",
       "    <tr>\n",
       "      <th>Company_Name</th>\n",
       "      <th></th>\n",
       "      <th></th>\n",
       "    </tr>\n",
       "  </thead>\n",
       "  <tbody>\n",
       "    <tr>\n",
       "      <th>L Brands</th>\n",
       "      <td>18807948.0</td>\n",
       "      <td>Data Scientist</td>\n",
       "    </tr>\n",
       "    <tr>\n",
       "      <th>Hashworks</th>\n",
       "      <td>16122060.0</td>\n",
       "      <td>Data Scientist</td>\n",
       "    </tr>\n",
       "    <tr>\n",
       "      <th>Société Générale</th>\n",
       "      <td>9568943.0</td>\n",
       "      <td>Data Scientist</td>\n",
       "    </tr>\n",
       "    <tr>\n",
       "      <th>Orbinet Technologies</th>\n",
       "      <td>8671344.0</td>\n",
       "      <td>Data Scientist</td>\n",
       "    </tr>\n",
       "    <tr>\n",
       "      <th>Ritwik IT Services</th>\n",
       "      <td>8666964.0</td>\n",
       "      <td>Data Scientist</td>\n",
       "    </tr>\n",
       "  </tbody>\n",
       "</table>\n",
       "</div>"
      ],
      "text/plain": [
       "                      Yearly_Salary       Job_Title\n",
       "Company_Name                                       \n",
       "L Brands                 18807948.0  Data Scientist\n",
       "Hashworks                16122060.0  Data Scientist\n",
       "Société Générale          9568943.0  Data Scientist\n",
       "Orbinet Technologies      8671344.0  Data Scientist\n",
       "Ritwik IT Services        8666964.0  Data Scientist"
      ]
     },
     "execution_count": 12,
     "metadata": {},
     "output_type": "execute_result"
    }
   ],
   "source": [
    "data_df[['Yearly_Salary','Job_Title']].groupby(data_df.Company_Name).max().sort_values(['Yearly_Salary'],ascending=False).head()"
   ]
  },
  {
   "cell_type": "code",
   "execution_count": 13,
   "id": "9da79a06",
   "metadata": {},
   "outputs": [
    {
     "data": {
      "text/plain": [
       "<AxesSubplot:title={'center':'Highest Paying Companies'}, xlabel='Company', ylabel='Salary in Crores (INR)'>"
      ]
     },
     "execution_count": 13,
     "metadata": {},
     "output_type": "execute_result"
    },
    {
     "data": {
      "image/png": "[encoded data removed]",
      "text/plain": [
       "<Figure size 432x288 with 1 Axes>"
      ]
     },
     "metadata": {
      "needs_background": "light"
     },
     "output_type": "display_data"
    }
   ],
   "source": [
    "data_df[['Yearly_Salary','Job_Title']].groupby(data_df.Company_Name).max().sort_values(['Yearly_Salary'],ascending=False).head().plot(kind='bar',yticks = range(1000000,20000000,5000000), xlabel='Company',ylabel='Salary in Crores (INR)', title='Highest Paying Companies')"
   ]
  },
  {
   "cell_type": "markdown",
   "id": "b8f36478",
   "metadata": {},
   "source": [
    "4) Top 5 Lowest Paying Companies?"
   ]
  },
  {
   "cell_type": "code",
   "execution_count": 14,
   "id": "240e4430",
   "metadata": {},
   "outputs": [
    {
     "data": {
      "text/html": [
       "<div>\n",
       "<style scoped>\n",
       "    .dataframe tbody tr th:only-of-type {\n",
       "        vertical-align: middle;\n",
       "    }\n",
       "\n",
       "    .dataframe tbody tr th {\n",
       "        vertical-align: top;\n",
       "    }\n",
       "\n",
       "    .dataframe thead th {\n",
       "        text-align: right;\n",
       "    }\n",
       "</style>\n",
       "<table border=\"1\" class=\"dataframe\">\n",
       "  <thead>\n",
       "    <tr style=\"text-align: right;\">\n",
       "      <th></th>\n",
       "      <th>Yearly_Salary</th>\n",
       "      <th>Job_Title</th>\n",
       "    </tr>\n",
       "    <tr>\n",
       "      <th>Company_Name</th>\n",
       "      <th></th>\n",
       "      <th></th>\n",
       "    </tr>\n",
       "  </thead>\n",
       "  <tbody>\n",
       "    <tr>\n",
       "      <th>Orbit Technologies</th>\n",
       "      <td>10814.0</td>\n",
       "      <td>Data Analyst</td>\n",
       "    </tr>\n",
       "    <tr>\n",
       "      <th>20K Group</th>\n",
       "      <td>21628.0</td>\n",
       "      <td>Data Analyst</td>\n",
       "    </tr>\n",
       "    <tr>\n",
       "      <th>Fran Biz</th>\n",
       "      <td>24120.0</td>\n",
       "      <td>Data Analyst</td>\n",
       "    </tr>\n",
       "    <tr>\n",
       "      <th>Wipro Technologies</th>\n",
       "      <td>24756.0</td>\n",
       "      <td>Data Analyst</td>\n",
       "    </tr>\n",
       "    <tr>\n",
       "      <th>Karza Technologies</th>\n",
       "      <td>27897.0</td>\n",
       "      <td>Data Scientist</td>\n",
       "    </tr>\n",
       "  </tbody>\n",
       "</table>\n",
       "</div>"
      ],
      "text/plain": [
       "                    Yearly_Salary       Job_Title\n",
       "Company_Name                                     \n",
       "Orbit Technologies        10814.0    Data Analyst\n",
       "20K Group                 21628.0    Data Analyst\n",
       "Fran Biz                  24120.0    Data Analyst\n",
       "Wipro Technologies        24756.0    Data Analyst\n",
       "Karza Technologies        27897.0  Data Scientist"
      ]
     },
     "execution_count": 14,
     "metadata": {},
     "output_type": "execute_result"
    }
   ],
   "source": [
    "data_df[['Yearly_Salary','Job_Title']].groupby(data_df.Company_Name).min().sort_values(['Yearly_Salary'],ascending=True).head()"
   ]
  },
  {
   "cell_type": "code",
   "execution_count": 15,
   "id": "90b83731",
   "metadata": {},
   "outputs": [
    {
     "data": {
      "text/plain": [
       "<AxesSubplot:title={'center':'Lowest Paying Companies'}, xlabel='Company'>"
      ]
     },
     "execution_count": 15,
     "metadata": {},
     "output_type": "execute_result"
    },
    {
     "data": {
      "image/png": "[encoded data removed]",
      "text/plain": [
       "<Figure size 432x288 with 1 Axes>"
      ]
     },
     "metadata": {
      "needs_background": "light"
     },
     "output_type": "display_data"
    }
   ],
   "source": [
    "data_df[['Yearly_Salary','Job_Title']].groupby(data_df.Company_Name).min().sort_values(['Yearly_Salary'],ascending=True).head().plot(kind='bar', xlabel='Company',title='Lowest Paying Companies')\n"
   ]
  },
  {
   "cell_type": "markdown",
   "id": "b8e0d029",
   "metadata": {},
   "source": [
    "5) How many Jobs Title are there?"
   ]
  },
  {
   "cell_type": "code",
   "execution_count": 16,
   "id": "282fbc3c",
   "metadata": {
    "scrolled": false
   },
   "outputs": [
    {
     "data": {
      "text/plain": [
       "Data Scientist                              1844\n",
       "Data Analyst                                 988\n",
       "Data Engineer                                804\n",
       "Machine Learning Engineer                    568\n",
       "Data Science                                  43\n",
       "Senior Data Scientist                         39\n",
       "Junior Data Scientist                         18\n",
       "Senior Machine Learning Engineer               9\n",
       "Lead Data Scientist                            6\n",
       "Machine Learning Scientist                     2\n",
       "Machine Learning Data Associate II             2\n",
       "Machine Learning Consultant                    2\n",
       "Software Engineer - Machine Learning           2\n",
       "Machine Learning Developer                     2\n",
       "Data Science Lead                              1\n",
       "Machine Learning Engineer/Data Scientist       1\n",
       "Data Scientist - Trainee                       1\n",
       "Machine Learning Data Associate                1\n",
       "Machine Learning Data Associate I              1\n",
       "Machine Learning Associate                     1\n",
       "Data Science Manager                           1\n",
       "Associate Machine Learning Engineer            1\n",
       "Machine Learning Data Analyst                  1\n",
       "Data Science Consultant                        1\n",
       "Data Science Associate                         1\n",
       "Machine Learning Software Engineer             1\n",
       "Name: Job_Title, dtype: int64"
      ]
     },
     "execution_count": 16,
     "metadata": {},
     "output_type": "execute_result"
    }
   ],
   "source": [
    "data_df.Job_Title.value_counts()\n"
   ]
  },
  {
   "cell_type": "code",
   "execution_count": 17,
   "id": "eb350e8b",
   "metadata": {},
   "outputs": [
    {
     "data": {
      "text/plain": [
       "<AxesSubplot:title={'center':'Total Job Titles'}, xlabel='Job Titles'>"
      ]
     },
     "execution_count": 17,
     "metadata": {},
     "output_type": "execute_result"
    },
    {
     "data": {
      "image/png": "[encoded data removed]",
      "text/plain": [
       "<Figure size 432x288 with 1 Axes>"
      ]
     },
     "metadata": {
      "needs_background": "light"
     },
     "output_type": "display_data"
    }
   ],
   "source": [
    "data_df.Job_Title.value_counts().plot(kind='bar', xlabel='Job Titles',title='Total Job Titles')\n"
   ]
  },
  {
   "cell_type": "markdown",
   "id": "b7d8f283",
   "metadata": {},
   "source": [
    "6) How many Job are there in all Location?"
   ]
  },
  {
   "cell_type": "code",
   "execution_count": 18,
   "id": "a92eb725",
   "metadata": {
    "scrolled": false
   },
   "outputs": [
    {
     "data": {
      "text/plain": [
       "Location   Job_Title                               \n",
       "Bangalore  Data Analyst                                200\n",
       "           Data Engineer                               199\n",
       "           Data Scientist                              985\n",
       "           Machine Learning Engineer                   200\n",
       "Hyderabad  Associate Machine Learning Engineer           1\n",
       "           Data Analyst                                194\n",
       "           Data Engineer                               162\n",
       "           Data Scientist                              198\n",
       "           Machine Learning Associate                    1\n",
       "           Machine Learning Data Analyst                 1\n",
       "           Machine Learning Data Associate               1\n",
       "           Machine Learning Data Associate I             1\n",
       "           Machine Learning Data Associate II            1\n",
       "           Machine Learning Engineer                   106\n",
       "           Senior Machine Learning Engineer              3\n",
       "Mumbai     Data Analyst                                196\n",
       "           Data Engineer                               127\n",
       "           Data Scientist                              195\n",
       "           Machine Learning Developer                    2\n",
       "           Machine Learning Engineer                    88\n",
       "           Machine Learning Scientist                    2\n",
       "           Senior Machine Learning Engineer              6\n",
       "           Software Engineer - Machine Learning          1\n",
       "New Delhi  Data Analyst                                199\n",
       "           Data Engineer                               163\n",
       "           Data Scientist                              195\n",
       "           Machine Learning Data Associate II            1\n",
       "           Machine Learning Engineer                    98\n",
       "Pune       Data Analyst                                199\n",
       "           Data Engineer                               153\n",
       "           Data Science                                 43\n",
       "           Data Science Associate                        1\n",
       "           Data Science Consultant                       1\n",
       "           Data Science Lead                             1\n",
       "           Data Science Manager                          1\n",
       "           Data Scientist                              271\n",
       "           Data Scientist - Trainee                      1\n",
       "           Junior Data Scientist                        18\n",
       "           Lead Data Scientist                           6\n",
       "           Machine Learning Consultant                   2\n",
       "           Machine Learning Engineer                    76\n",
       "           Machine Learning Engineer/Data Scientist      1\n",
       "           Machine Learning Software Engineer            1\n",
       "           Senior Data Scientist                        39\n",
       "           Software Engineer - Machine Learning          1\n",
       "dtype: int64"
      ]
     },
     "execution_count": 18,
     "metadata": {},
     "output_type": "execute_result"
    }
   ],
   "source": [
    "data_df[['Location','Job_Title']].groupby(['Location','Job_Title']).value_counts()"
   ]
  },
  {
   "cell_type": "code",
   "execution_count": null,
   "id": "1cc8d314",
   "metadata": {},
   "outputs": [],
   "source": []
  }
 ],
 "metadata": {
  "kernelspec": {
   "display_name": "Python 3 (ipykernel)",
   "language": "python",
   "name": "python3"
  },
  "language_info": {
   "codemirror_mode": {
    "name": "ipython",
    "version": 3
   },
   "file_extension": ".py",
   "mimetype": "text/x-python",
   "name": "python",
   "nbconvert_exporter": "python",
   "pygments_lexer": "ipython3",
   "version": "3.10.2"
  }
 },
 "nbformat": 4,
 "nbformat_minor": 5
}
