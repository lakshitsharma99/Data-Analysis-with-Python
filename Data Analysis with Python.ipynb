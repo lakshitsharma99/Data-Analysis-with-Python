{
 "cells": [
  {
   "cell_type": "markdown",
   "id": "996e9d34",
   "metadata": {},
   "source": [
    "# Exploratory Data Analysis using Python"
   ]
  },
  {
   "cell_type": "markdown",
   "id": "240432a1",
   "metadata": {},
   "source": [
    "Exploratory Data Analysis (EDA) is an approach in analyzing data sets to summarize their main characteristics, often using statistical graphics and other data visualization methods. EDA is very useful for:\n",
    "\n",
    "1) Getting a better understanding of data\n",
    "\n",
    "2) Identifying various data patterns\n",
    "\n",
    "3) Getting a better understanding of the problem statement"
   ]
  },
  {
   "cell_type": "markdown",
   "id": "58715aec",
   "metadata": {},
   "source": [
    "# Reading a CSV file using Pandas"
   ]
  },
  {
   "cell_type": "markdown",
   "id": "5fc60cd9",
   "metadata": {},
   "source": [
    "<a href=\"https://pandas.pydata.org/\">Pandas</a> is a popular Python library used for working in tabular data (similar to the data stored in a spreadsheet). Pandas provides helper functions to read data from various file formats like CSV, Excel spreadsheets, HTML tables, SQL, and more. I'm using a Dataset which I found on <a href=\"https://www.kaggle.com/iamsouravbanerjee/analytics-industry-salaries-2022-india\">Kaggle</a> in the following CSV format:"
   ]
  },
  {
   "cell_type": "raw",
   "id": "a06b87f2",
   "metadata": {},
   "source": [
    "Company Name,Job Title,Salaries Reported,Location,Salary\n",
    "Mu Sigma,Data Scientist,105,Bangalore,\"₹6,48,573/yr\"\n",
    "IBM,Data Scientist,95,Bangalore,\"₹11,91,950/yr\"\n",
    "Tata Consultancy Services,Data Scientist,66,Bangalore,\"₹8,36,874/yr\"\n",
    "Impact Analytics,Data Scientist,40,Bangalore,\"₹6,69,578/yr\"\n",
    "Accenture,Data Scientist,32,Bangalore,\"₹9,44,110/yr\"\n",
    "Infosys,Data Scientist,30,Bangalore,\"₹9,08,764/yr\"\n",
    "a"
   ]
  },
  {
   "cell_type": "markdown",
   "id": "be013244",
   "metadata": {},
   "source": [
    "<a href=\"https://pandas.pydata.org/\">Pandas</a> is a popular Python library used for working in tabular data (similar to the data stored in a spreadsheet). Pandas provides helper functions to read data from various file formats like CSV, Excel spreadsheets, HTML tables, SQL, and more. I'm using a Dataset which I found on <a href=\"https://www.kaggle.com/iamsouravbanerjee/analytics-industry-salaries-2022-india\">Kaggle</a> in the following CSV format:"
   ]
  },
  {
   "cell_type": "code",
   "execution_count": null,
   "id": "6fcf4d0c",
   "metadata": {},
   "outputs": [],
   "source": [
    "he"
   ]
  }
 ],
 "metadata": {
  "kernelspec": {
   "display_name": "Python 3 (ipykernel)",
   "language": "python",
   "name": "python3"
  },
  "language_info": {
   "codemirror_mode": {
    "name": "ipython",
    "version": 3
   },
   "file_extension": ".py",
   "mimetype": "text/x-python",
   "name": "python",
   "nbconvert_exporter": "python",
   "pygments_lexer": "ipython3",
   "version": "3.10.2"
  }
 },
 "nbformat": 4,
 "nbformat_minor": 5
}
