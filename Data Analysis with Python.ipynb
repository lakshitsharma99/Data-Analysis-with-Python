{
 "cells": [
  {
   "cell_type": "markdown",
   "id": "996e9d34",
   "metadata": {},
   "source": [
    "# Exploratory Data Analysis using Python\n",
    "Exploratory Data Analysis (EDA) is an approach in analyzing data sets to summarize their main characteristics, often using statistical graphics and other data visualization methods. EDA is very useful for:\n",
    "\n",
    "1) Getting a better understanding of data<br>\n",
    "2) Identifying various data patterns<br>\n",
    "3) Getting a better understanding of the problem statement"
   ]
  },
  {
   "cell_type": "markdown",
   "id": "b98603c9",
   "metadata": {},
   "source": [
    "<a href=\"https://pandas.pydata.org/\">Pandas</a> is a popular Python library used for working in tabular data (similar to the data stored in a spreadsheet). Pandas provides helper functions to read data from various file formats like CSV, Excel spreadsheets, HTML tables, SQL, and more.\n",
    "\n",
    "I'm using a Dataset which I found on <a href=\"https://www.kaggle.com/iamsouravbanerjee/analytics-industry-salaries-2022-india\">Kaggle</a> in the following CSV format:\n",
    "\n",
    "<code>Company Name,Job Title,Salaries Reported,Location,Salary\n",
    "Mu Sigma,Data Scientist,105,Bangalore,\"₹6,48,573/yr\"\n",
    "IBM,Data Scientist,95,Bangalore,\"₹11,91,950/yr\"\n",
    "Tata Consultancy Services,Data Scientist,66,Bangalore,\"₹8,36,874/yr\"\n",
    "Impact Analytics,Data Scientist,40,Bangalore,\"₹6,69,578/yr\"\n",
    "Accenture,Data Scientist,32,Bangalore,\"₹9,44,110/yr\"\n",
    "Infosys,Data Scientist,30,Bangalore,\"₹9,08,764/yr\"</code>\n",
    "\n",
    "Before analysing this CSV file firstly we need to clean this data to identify incorrect or irrelevant parts of the data and then replacing, or deleting the dirty data. For instance- that ₹ symbol and /yr should be remove from Salary column. For that lets import pandas module and read CSV."
   ]
  },
  {
   "cell_type": "markdown",
   "id": "3bff48e0",
   "metadata": {},
   "source": [
    "# Importing pandas & NumPy module with the alias pd and nm."
   ]
  },
  {
   "cell_type": "code",
   "execution_count": 1,
   "id": "b685efac",
   "metadata": {},
   "outputs": [],
   "source": [
    "import pandas as pd\n",
    "import numpy as nm"
   ]
  },
  {
   "cell_type": "markdown",
   "id": "ff12411c",
   "metadata": {},
   "source": [
    "# Reading a CSV file using Pandas"
   ]
  },
  {
   "cell_type": "code",
   "execution_count": 6,
   "id": "b7f9f889",
   "metadata": {},
   "outputs": [],
   "source": [
    "# Reading CSV file in variable df\n",
    "data_df = pd.read_csv(\"Dataset.csv\")"
   ]
  },
  {
   "cell_type": "raw",
   "id": "932e2886",
   "metadata": {},
   "source": [
    "Data from the CSV file is read and stored in a DataFrame object - one of the core data structures in Pandas for storing and working with tabular data. We typically use the _df suffix in the variable names for dataframes. "
   ]
  },
  {
   "cell_type": "code",
   "execution_count": 7,
   "id": "22c1f830",
   "metadata": {},
   "outputs": [
    {
     "data": {
      "text/plain": [
       "pandas.core.frame.DataFrame"
      ]
     },
     "execution_count": 7,
     "metadata": {},
     "output_type": "execute_result"
    }
   ],
   "source": [
    "# To find out the type of variable\n",
    "type(data_df)"
   ]
  },
  {
   "cell_type": "code",
   "execution_count": 8,
   "id": "80881d32",
   "metadata": {},
   "outputs": [
    {
     "data": {
      "text/html": [
       "<div>\n",
       "<style scoped>\n",
       "    .dataframe tbody tr th:only-of-type {\n",
       "        vertical-align: middle;\n",
       "    }\n",
       "\n",
       "    .dataframe tbody tr th {\n",
       "        vertical-align: top;\n",
       "    }\n",
       "\n",
       "    .dataframe thead th {\n",
       "        text-align: right;\n",
       "    }\n",
       "</style>\n",
       "<table border=\"1\" class=\"dataframe\">\n",
       "  <thead>\n",
       "    <tr style=\"text-align: right;\">\n",
       "      <th></th>\n",
       "      <th>Company Name</th>\n",
       "      <th>Job_Title</th>\n",
       "      <th>Salaries_Reported</th>\n",
       "      <th>Location</th>\n",
       "      <th>Salary</th>\n",
       "    </tr>\n",
       "  </thead>\n",
       "  <tbody>\n",
       "    <tr>\n",
       "      <th>3572</th>\n",
       "      <td>Super Highway Labs</td>\n",
       "      <td>Data Engineer</td>\n",
       "      <td>1.0</td>\n",
       "      <td>New Delhi</td>\n",
       "      <td>₹36,65,141/yr</td>\n",
       "    </tr>\n",
       "    <tr>\n",
       "      <th>3807</th>\n",
       "      <td>Nones</td>\n",
       "      <td>Machine Learning Engineer</td>\n",
       "      <td>1.0</td>\n",
       "      <td>Bangalore</td>\n",
       "      <td>₹12,08,801/yr</td>\n",
       "    </tr>\n",
       "    <tr>\n",
       "      <th>3967</th>\n",
       "      <td>Tata Elxsi</td>\n",
       "      <td>Machine Learning Engineer</td>\n",
       "      <td>1.0</td>\n",
       "      <td>Pune</td>\n",
       "      <td>₹4,32,559/yr</td>\n",
       "    </tr>\n",
       "    <tr>\n",
       "      <th>1053</th>\n",
       "      <td>Tata Consultancy Services</td>\n",
       "      <td>Data Scientist</td>\n",
       "      <td>1.0</td>\n",
       "      <td>Pune</td>\n",
       "      <td>₹25,000/mo</td>\n",
       "    </tr>\n",
       "    <tr>\n",
       "      <th>4157</th>\n",
       "      <td>BYJU'S</td>\n",
       "      <td>Machine Learning Engineer</td>\n",
       "      <td>1.0</td>\n",
       "      <td>New Delhi</td>\n",
       "      <td>₹22,19,746/yr</td>\n",
       "    </tr>\n",
       "    <tr>\n",
       "      <th>3747</th>\n",
       "      <td>Tata Consultancy Services Big</td>\n",
       "      <td>Data Engineer</td>\n",
       "      <td>5.0</td>\n",
       "      <td>Mumbai</td>\n",
       "      <td>₹5,50,000/yr</td>\n",
       "    </tr>\n",
       "    <tr>\n",
       "      <th>3639</th>\n",
       "      <td>IFI Techsolutions</td>\n",
       "      <td>Data Engineer</td>\n",
       "      <td>2.0</td>\n",
       "      <td>Mumbai</td>\n",
       "      <td>₹3,53,152/yr</td>\n",
       "    </tr>\n",
       "    <tr>\n",
       "      <th>4278</th>\n",
       "      <td>BridgeLabz Solutions</td>\n",
       "      <td>Machine Learning Engineer</td>\n",
       "      <td>1.0</td>\n",
       "      <td>Mumbai</td>\n",
       "      <td>₹22,304/mo</td>\n",
       "    </tr>\n",
       "    <tr>\n",
       "      <th>3584</th>\n",
       "      <td>Boston Scientific</td>\n",
       "      <td>Data Engineer</td>\n",
       "      <td>1.0</td>\n",
       "      <td>New Delhi</td>\n",
       "      <td>₹27,07,106/yr</td>\n",
       "    </tr>\n",
       "    <tr>\n",
       "      <th>4343</th>\n",
       "      <td>vPhrase</td>\n",
       "      <td>Machine Learning Engineer</td>\n",
       "      <td>1.0</td>\n",
       "      <td>Mumbai</td>\n",
       "      <td>₹9,39,843/yr</td>\n",
       "    </tr>\n",
       "  </tbody>\n",
       "</table>\n",
       "</div>"
      ],
      "text/plain": [
       "                       Company Name                  Job_Title  \\\n",
       "3572             Super Highway Labs              Data Engineer   \n",
       "3807                          Nones  Machine Learning Engineer   \n",
       "3967                     Tata Elxsi  Machine Learning Engineer   \n",
       "1053      Tata Consultancy Services             Data Scientist   \n",
       "4157                         BYJU'S  Machine Learning Engineer   \n",
       "3747  Tata Consultancy Services Big              Data Engineer   \n",
       "3639              IFI Techsolutions              Data Engineer   \n",
       "4278           BridgeLabz Solutions  Machine Learning Engineer   \n",
       "3584              Boston Scientific              Data Engineer   \n",
       "4343                        vPhrase  Machine Learning Engineer   \n",
       "\n",
       "      Salaries_Reported   Location         Salary  \n",
       "3572                1.0  New Delhi  ₹36,65,141/yr  \n",
       "3807                1.0  Bangalore  ₹12,08,801/yr  \n",
       "3967                1.0       Pune   ₹4,32,559/yr  \n",
       "1053                1.0       Pune     ₹25,000/mo  \n",
       "4157                1.0  New Delhi  ₹22,19,746/yr  \n",
       "3747                5.0     Mumbai   ₹5,50,000/yr  \n",
       "3639                2.0     Mumbai   ₹3,53,152/yr  \n",
       "4278                1.0     Mumbai     ₹22,304/mo  \n",
       "3584                1.0  New Delhi  ₹27,07,106/yr  \n",
       "4343                1.0     Mumbai   ₹9,39,843/yr  "
      ]
     },
     "execution_count": 8,
     "metadata": {},
     "output_type": "execute_result"
    }
   ],
   "source": [
    "# Lets extract some random rows from the dataset.\n",
    "data_df.sample(10)"
   ]
  },
  {
   "cell_type": "markdown",
   "id": "06bd4159",
   "metadata": {},
   "source": [
    "The data is looking awesome but the salary column is not looking good since it contain different symbols and values apart from numeric value."
   ]
  },
  {
   "cell_type": "code",
   "execution_count": null,
   "id": "63a71a44",
   "metadata": {},
   "outputs": [],
   "source": [
    "df.Salary.str.replace('₹', '', regex=True)\n",
    "df.Salary.str.replace(',', '', regex=True)\n",
    "df.Salary.str.replace('/yr', '', regex=True)\n"
   ]
  },
  {
   "cell_type": "code",
   "execution_count": null,
   "id": "c1b65cd1",
   "metadata": {},
   "outputs": [],
   "source": []
  }
 ],
 "metadata": {
  "kernelspec": {
   "display_name": "Python 3 (ipykernel)",
   "language": "python",
   "name": "python3"
  },
  "language_info": {
   "codemirror_mode": {
    "name": "ipython",
    "version": 3
   },
   "file_extension": ".py",
   "mimetype": "text/x-python",
   "name": "python",
   "nbconvert_exporter": "python",
   "pygments_lexer": "ipython3",
   "version": "3.10.2"
  }
 },
 "nbformat": 4,
 "nbformat_minor": 5
}
